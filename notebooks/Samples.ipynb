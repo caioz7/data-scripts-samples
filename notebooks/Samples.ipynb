{
 "cells": [
  {
   "cell_type": "code",
   "execution_count": null,
   "id": "a344b158-535c-45ed-b9fd-b1155eba528c",
   "metadata": {
    "id": "a344b158-535c-45ed-b9fd-b1155eba528c"
   },
   "outputs": [],
   "source": [
    "# !pip install pyspark"
   ]
  },
  {
   "cell_type": "markdown",
   "id": "336f9a5e-96c0-4519-8ba9-18238c5efb40",
   "metadata": {},
   "source": [
    "# Índice\n",
    "\n",
    "1. [Imports](#Import)\n",
    "2. [Usando dropna](#dropna)\n",
    "3. [Dropando duplicados](#dropDuplicates)\n",
    "4. ..."
   ]
  },
  {
   "cell_type": "markdown",
   "id": "d44712dc-4c0a-47ae-8de6-01af4c1c4a32",
   "metadata": {},
   "source": [
    "## Import"
   ]
  },
  {
   "cell_type": "code",
   "execution_count": 1,
   "id": "8a41a4b0-603f-47d7-970b-fff96e5553e0",
   "metadata": {
    "executionInfo": {
     "elapsed": 376,
     "status": "ok",
     "timestamp": 1740080702647,
     "user": {
      "displayName": "Caio César",
      "userId": "07631910079273269070"
     },
     "user_tz": 180
    },
    "id": "8a41a4b0-603f-47d7-970b-fff96e5553e0"
   },
   "outputs": [],
   "source": [
    "# Importação das bibliotecas necessárias\n",
    "from pyspark.sql import SparkSession\n",
    "from pyspark.sql.functions import col, when, lit, concat"
   ]
  },
  {
   "cell_type": "code",
   "execution_count": 3,
   "id": "e5ee7e94-194f-454b-b8e6-fbcb45c0ff08",
   "metadata": {
    "executionInfo": {
     "elapsed": 8472,
     "status": "ok",
     "timestamp": 1740080716139,
     "user": {
      "displayName": "Caio César",
      "userId": "07631910079273269070"
     },
     "user_tz": 180
    },
    "id": "e5ee7e94-194f-454b-b8e6-fbcb45c0ff08"
   },
   "outputs": [],
   "source": [
    "# Inicializar uma sessão do Spark e impedindo avisos desnecessários\n",
    "spark = SparkSession.builder \\\n",
    "    .appName(\"NomeDaApp\") \\\n",
    "    .config(\"spark.logConf\", \"false\") \\\n",
    "    .getOrCreate()\n",
    "\n",
    "spark.sparkContext.setLogLevel(\"ERROR\")"
   ]
  },
  {
   "cell_type": "markdown",
   "id": "f31d5242-34ae-4896-82c1-e7266a5cee57",
   "metadata": {},
   "source": [
    "## dropna"
   ]
  },
  {
   "cell_type": "code",
   "execution_count": 11,
   "id": "93cdf762-bed3-4ea2-b192-5107c7da6b81",
   "metadata": {
    "colab": {
     "base_uri": "https://localhost:8080/"
    },
    "executionInfo": {
     "elapsed": 11583,
     "status": "ok",
     "timestamp": 1740080729660,
     "user": {
      "displayName": "Caio César",
      "userId": "07631910079273269070"
     },
     "user_tz": 180
    },
    "id": "93cdf762-bed3-4ea2-b192-5107c7da6b81",
    "outputId": "062ea2c2-3ec0-4373-c4d6-cb4fab36e491"
   },
   "outputs": [
    {
     "name": "stdout",
     "output_type": "stream",
     "text": [
      "+-----+-----+---------+---------+\n",
      "| Nome|Idade|   Cidade|     País|\n",
      "+-----+-----+---------+---------+\n",
      "|Alice|   34|São Paulo|   Brasil|\n",
      "|  Bob|   45|Nova York|      EUA|\n",
      "|Carla|   29|         | Portugal|\n",
      "|  Eva|   25|    Paris|   França|\n",
      "|  Bob|   45|Nova York|      EUA|\n",
      "|Frank|   40|   Tóquio|    Japão|\n",
      "| Hank|   50|   Sydney|Austrália|\n",
      "+-----+-----+---------+---------+\n",
      "\n"
     ]
    }
   ],
   "source": [
    "# Exemplo de DataFrame com 10 registros e 4 campos (incluindo valores nulos/vazios)\n",
    "data = [\n",
    "    (\"Alice\", 34, \"São Paulo\", \"Brasil\"),\n",
    "    (\"Bob\", 45, \"Nova York\", \"EUA\"),\n",
    "    (\"Alice\", None, \"São Paulo\", \"Brasil\"),  # Idade nula\n",
    "    (\"Carla\", 29, \"\", \"Portugal\"),          # Cidade vazia\n",
    "    (\"David\", 30, \"Berlim\", None),          # País nulo\n",
    "    (\"Eva\", 25, \"Paris\", \"França\"),\n",
    "    (\"Bob\", 45, \"Nova York\", \"EUA\"),\n",
    "    (\"Frank\", 40, \"Tóquio\", \"Japão\"),\n",
    "    (\"Grace\", 35, None, \"Reino Unido\"),     # Cidade nula\n",
    "    (\"Hank\", 50, \"Sydney\", \"Austrália\")\n",
    "]\n",
    "\n",
    "df = spark.createDataFrame(data, [\"Nome\", \"Idade\", \"Cidade\", \"País\"])\n",
    "\n",
    "# Remover linhas com valores nulos ou vazios e salvar na mesma variável `df`\n",
    "df = df.na.drop()  # Remove linhas com qualquer valor nulo ou vazio\n",
    "\n",
    "# Mostrar o resultado\n",
    "df.show()"
   ]
  },
  {
   "cell_type": "markdown",
   "id": "d024e751-251d-47ab-b6d1-3975462700f4",
   "metadata": {},
   "source": [
    "## dropDuplicates"
   ]
  },
  {
   "cell_type": "code",
   "execution_count": 10,
   "id": "KYdtnett5TdY",
   "metadata": {
    "id": "KYdtnett5TdY"
   },
   "outputs": [
    {
     "name": "stdout",
     "output_type": "stream",
     "text": [
      "+-----+-----+---------+-----------+\n",
      "| Nome|Idade|   Cidade|       País|\n",
      "+-----+-----+---------+-----------+\n",
      "|Alice|   34|São Paulo|     Brasil|\n",
      "|  Bob|   45|Nova York|        EUA|\n",
      "|David|   30|   Berlim|   Alemanha|\n",
      "|Carla|   29|   Lisboa|   Portugal|\n",
      "|  Eva|   25|    Paris|     França|\n",
      "|Frank|   40|   Tóquio|      Japão|\n",
      "|Grace|   35|  Londres|Reino Unido|\n",
      "| Hank|   50|   Sydney|  Austrália|\n",
      "+-----+-----+---------+-----------+\n",
      "\n"
     ]
    }
   ],
   "source": [
    "# Exemplo de DataFrame com 10 registros e 4 campos\n",
    "data = [\n",
    "    (\"Alice\", 34, \"São Paulo\", \"Brasil\"),\n",
    "    (\"Bob\", 45, \"Nova York\", \"EUA\"),\n",
    "    (\"Alice\", 34, \"São Paulo\", \"Brasil\"),\n",
    "    (\"Carla\", 29, \"Lisboa\", \"Portugal\"),\n",
    "    (\"David\", 30, \"Berlim\", \"Alemanha\"),\n",
    "    (\"Eva\", 25, \"Paris\", \"França\"),\n",
    "    (\"Bob\", 45, \"Nova York\", \"EUA\"),\n",
    "    (\"Frank\", 40, \"Tóquio\", \"Japão\"),\n",
    "    (\"Grace\", 35, \"Londres\", \"Reino Unido\"),\n",
    "    (\"Hank\", 50, \"Sydney\", \"Austrália\")\n",
    "]\n",
    "\n",
    "df = spark.createDataFrame(data, [\"Nome\", \"Idade\", \"Cidade\", \"País\"])\n",
    "\n",
    "# Remover linhas duplicadas e salvar na mesma variável `df`\n",
    "df = df.dropDuplicates()\n",
    "\n",
    "# Mostrar o resultado\n",
    "df.show()"
   ]
  },
  {
   "cell_type": "code",
   "execution_count": null,
   "id": "42c53f2b-5fb8-4bf7-a26e-ea3a8054a796",
   "metadata": {
    "id": "42c53f2b-5fb8-4bf7-a26e-ea3a8054a796"
   },
   "outputs": [],
   "source": []
  },
  {
   "cell_type": "code",
   "execution_count": null,
   "id": "d1a0d836-90fb-49f9-8fd0-db8e2a87db40",
   "metadata": {
    "id": "d1a0d836-90fb-49f9-8fd0-db8e2a87db40"
   },
   "outputs": [],
   "source": []
  },
  {
   "cell_type": "code",
   "execution_count": null,
   "id": "547fa663-67d9-43be-96af-a13331998467",
   "metadata": {
    "id": "547fa663-67d9-43be-96af-a13331998467"
   },
   "outputs": [],
   "source": []
  }
 ],
 "metadata": {
  "colab": {
   "provenance": []
  },
  "kernelspec": {
   "display_name": "Python 3 (ipykernel)",
   "language": "python",
   "name": "python3"
  },
  "language_info": {
   "codemirror_mode": {
    "name": "ipython",
    "version": 3
   },
   "file_extension": ".py",
   "mimetype": "text/x-python",
   "name": "python",
   "nbconvert_exporter": "python",
   "pygments_lexer": "ipython3",
   "version": "3.9.13"
  }
 },
 "nbformat": 4,
 "nbformat_minor": 5
}
